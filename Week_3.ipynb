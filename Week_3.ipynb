{
  "nbformat": 4,
  "nbformat_minor": 0,
  "metadata": {
    "colab": {
      "provenance": [],
      "include_colab_link": true
    },
    "kernelspec": {
      "name": "python3",
      "display_name": "Python 3"
    },
    "language_info": {
      "name": "python"
    }
  },
  "cells": [
    {
      "cell_type": "markdown",
      "metadata": {
        "id": "view-in-github",
        "colab_type": "text"
      },
      "source": [
        "<a href=\"https://colab.research.google.com/github/My1nonly/PCVK_smt6_2023/blob/main/Week_3.ipynb\" target=\"_parent\"><img src=\"https://colab.research.google.com/assets/colab-badge.svg\" alt=\"Open In Colab\"/></a>"
      ]
    },
    {
      "cell_type": "code",
      "execution_count": null,
      "metadata": {
        "colab": {
          "base_uri": "https://localhost:8080/"
        },
        "id": "J6BJHbghxpPG",
        "outputId": "d71be7b9-65ed-48c5-baa6-4a5b0a5a9d9d"
      },
      "outputs": [
        {
          "output_type": "stream",
          "name": "stdout",
          "text": [
            "Mounted at /content/drive\n"
          ]
        }
      ],
      "source": [
        "from google.colab import drive\n",
        "\n",
        "drive.mount('/content/drive')"
      ]
    },
    {
      "cell_type": "code",
      "source": [
        "print(\"Mengubah tingkat kecerahan citra \")\n",
        "print(\"---------------------------------\")\n",
        "try:\n",
        "    brightness = int(input(\"Masukkan nilai kecerahan: \"))\n",
        "    except ValueError:\n",
        "      print(\"Error, not a number\")\n",
        "\n",
        "original = cv.imread('/content/drive/MyDrive/images')"
      ],
      "metadata": {
        "id": "lBx29Lbl3DZH"
      },
      "execution_count": null,
      "outputs": []
    }
  ]
}